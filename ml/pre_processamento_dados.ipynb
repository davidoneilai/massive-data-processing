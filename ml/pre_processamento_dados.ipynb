{
  "cells": [
    {
      "cell_type": "markdown",
      "metadata": {
        "id": "PYt5QGSf67N3"
      },
      "source": [
        "# Leitura da Tabela"
      ]
    },
    {
      "cell_type": "code",
      "execution_count": null,
      "metadata": {
        "colab": {
          "base_uri": "https://localhost:8080/",
          "height": 34
        },
        "id": "UulWvE0cyb8Z",
        "outputId": "4f1bf763-d04a-45bb-803b-4548f7ffa8ab"
      },
      "outputs": [
        {
          "data": {
            "text/html": [
              "Query job 3b849a1a-6e56-4ece-86cb-579190d118ed is DONE. 0 Bytes processed. <a target=\"_blank\" href=\"https://console.cloud.google.com/bigquery?project=pdm-savio&j=bq:US:3b849a1a-6e56-4ece-86cb-579190d118ed&page=queryresults\">Open Job</a>"
            ],
            "text/plain": [
              "<IPython.core.display.HTML object>"
            ]
          },
          "metadata": {},
          "output_type": "display_data"
        }
      ],
      "source": [
        "import bigframes.pandas as bf\n",
        "df = bf.read_gbq(\"davidoneilPDM.compras_gold\", use_cache=False)"
      ]
    },
    {
      "cell_type": "code",
      "execution_count": 2,
      "metadata": {
        "colab": {
          "base_uri": "https://localhost:8080/"
        },
        "id": "OcFMRZ-XLGJQ",
        "outputId": "8e709417-bc46-47d4-f4e8-f4f818a7f738"
      },
      "outputs": [
        {
          "data": {
            "text/plain": [
              "(638881, 5)"
            ]
          },
          "execution_count": 2,
          "metadata": {},
          "output_type": "execute_result"
        }
      ],
      "source": [
        "df.shape"
      ]
    },
    {
      "cell_type": "markdown",
      "metadata": {
        "id": "EcaDjqWCH_4S"
      },
      "source": [
        "# Pré-processamento e preparação dos dados de treinamento"
      ]
    },
    {
      "cell_type": "code",
      "execution_count": 3,
      "metadata": {
        "id": "7lemxUULHysE"
      },
      "outputs": [],
      "source": [
        "from sklearn.model_selection import train_test_split\n",
        "from sklearn.linear_model import LinearRegression\n",
        "from sklearn.preprocessing import LabelEncoder\n",
        "from sklearn.metrics import mean_squared_error, r2_score"
      ]
    },
    {
      "cell_type": "code",
      "execution_count": 4,
      "metadata": {
        "colab": {
          "base_uri": "https://localhost:8080/",
          "height": 34
        },
        "id": "HyXQMjiRI-ZX",
        "outputId": "0852dc8c-9e2e-413e-b14f-dfec85b8c187"
      },
      "outputs": [
        {
          "data": {
            "text/html": [
              "Load job 1a00a46f-8aa0-4d14-ac7b-c0929deaafe2 is DONE. <a target=\"_blank\" href=\"https://console.cloud.google.com/bigquery?project=pdm-savio&j=bq:US:1a00a46f-8aa0-4d14-ac7b-c0929deaafe2&page=queryresults\">Open Job</a>"
            ],
            "text/plain": [
              "<IPython.core.display.HTML object>"
            ]
          },
          "metadata": {},
          "output_type": "display_data"
        }
      ],
      "source": [
        "labelEncoder = LabelEncoder()\n",
        "df['client_id_encoded'] = labelEncoder.fit_transform(df['client_id'])"
      ]
    },
    {
      "cell_type": "code",
      "execution_count": 5,
      "metadata": {
        "id": "F_im6sM2JLNt"
      },
      "outputs": [],
      "source": [
        "features = ['client_id_encoded', 'company_id', 'mes', 'ano']\n",
        "target = 'numero_pedidos'"
      ]
    },
    {
      "cell_type": "code",
      "execution_count": 6,
      "metadata": {
        "id": "Jf1Lf0afJc21"
      },
      "outputs": [],
      "source": [
        "X = df[features]\n",
        "y = df[target]"
      ]
    },
    {
      "cell_type": "markdown",
      "metadata": {
        "id": "qitlhIDvJs44"
      },
      "source": [
        "# Treinamento com Scikit-Learn"
      ]
    },
    {
      "cell_type": "code",
      "execution_count": 7,
      "metadata": {
        "id": "2rOKEfNOJetW"
      },
      "outputs": [],
      "source": [
        "X_train, X_val, y_train, y_val = train_test_split(X.to_pandas(), y.to_pandas(), test_size=0.2, random_state=42)"
      ]
    },
    {
      "cell_type": "code",
      "execution_count": 8,
      "metadata": {
        "colab": {
          "base_uri": "https://localhost:8080/"
        },
        "id": "FnGp1ejVJqkX",
        "outputId": "6eb29c8b-2b99-441e-e612-91c3afc0756c"
      },
      "outputs": [
        {
          "name": "stdout",
          "output_type": "stream",
          "text": [
            "Modelo scikit-learn treinado com sucesso!\n"
          ]
        }
      ],
      "source": [
        "model = LinearRegression()\n",
        "model.fit(X_train, y_train)\n",
        "print(\"Modelo scikit-learn treinado com sucesso!\")"
      ]
    },
    {
      "cell_type": "code",
      "execution_count": 9,
      "metadata": {
        "colab": {
          "base_uri": "https://localhost:8080/"
        },
        "id": "IOwEEBzRLmaT",
        "outputId": "f86c6736-2a2e-4efd-ebc4-64e22e1ac86b"
      },
      "outputs": [
        {
          "name": "stdout",
          "output_type": "stream",
          "text": [
            "rmse: 9.64 itens\n"
          ]
        }
      ],
      "source": [
        "import numpy as np\n",
        "\n",
        "y_pred_val = model.predict(X_val)\n",
        "rmse = np.sqrt(mean_squared_error(y_val, y_pred_val))\n",
        "print(f\"rmse: {rmse:.2f} itens\")"
      ]
    },
    {
      "cell_type": "markdown",
      "metadata": {
        "id": "XKadpHjDNTPE"
      },
      "source": [
        "## Prediction com Scikit-Learn"
      ]
    },
    {
      "cell_type": "code",
      "execution_count": 10,
      "metadata": {
        "id": "xuJ7M44HM7KF"
      },
      "outputs": [],
      "source": [
        "import pandas as pd\n",
        "df_predict_pd = pd.read_csv(\"gs://kaggle-pdm-2025/test.csv\")\n",
        "df_predict_pd['mes'] = 8\n",
        "df_predict_pd['ano'] = 2025"
      ]
    },
    {
      "cell_type": "code",
      "execution_count": 11,
      "metadata": {
        "id": "lafg0EtINlRt"
      },
      "outputs": [],
      "source": [
        "df_predict_pd['client_id_encoded'] = labelEncoder.transform(df_predict_pd['client_id'])"
      ]
    },
    {
      "cell_type": "code",
      "execution_count": 12,
      "metadata": {
        "id": "SpM92Q83OUon"
      },
      "outputs": [],
      "source": [
        "X_future = df_predict_pd[features]\n",
        "predictions = model.predict(X_future)"
      ]
    },
    {
      "cell_type": "code",
      "execution_count": 13,
      "metadata": {
        "colab": {
          "base_uri": "https://localhost:8080/"
        },
        "id": "GFUd6V_bffaC",
        "outputId": "9f8452f9-9a16-46ff-c2ae-31bf9bdb841d"
      },
      "outputs": [
        {
          "data": {
            "text/plain": [
              "array([1.79675448, 1.90101105, 1.79143698, 1.79387166, 1.80159709,\n",
              "       1.77781212, 1.79292855, 1.7854506 , 1.80872054, 1.89628883,\n",
              "       1.88984763, 1.76240808, 1.79424623, 1.91417438, 1.78949057,\n",
              "       1.79412583, 1.81910807, 1.8134762 , 1.72495143, 1.77275547,\n",
              "       1.71865738, 1.80326258, 1.7652909 , 1.79860056, 1.89768677,\n",
              "       1.80677414, 1.71883128, 1.81541592, 1.82012476, 1.88618223,\n",
              "       1.78411287, 1.89955291, 1.75889652, 1.77984548, 1.77805291,\n",
              "       1.74463624, 1.7632241 , 1.77905622, 1.79430642, 1.82308115,\n",
              "       1.81274713, 1.75913062, 1.7373857 , 1.79417934, 1.79829957,\n",
              "       1.81110172, 1.87766084, 1.71506555, 1.89749949, 1.7902397 ,\n",
              "       1.8766174 , 1.78707595, 1.76743128, 1.89911815, 1.75804036,\n",
              "       1.89759982, 1.84370238, 1.76219404, 1.7744544 , 1.90762616,\n",
              "       1.90467645, 1.81289428, 1.80694135, 1.76439462, 1.77068867,\n",
              "       1.7662942 , 1.76536448, 1.84633103, 1.77338421, 1.81523533,\n",
              "       1.82106117, 1.90497744, 1.79102228, 1.74036216, 1.77756464,\n",
              "       1.776762  , 1.78170494, 1.72862352, 1.83684647, 1.78339718,\n",
              "       1.75248206, 1.77264846, 1.72792121, 1.90893045, 1.78773144,\n",
              "       1.91377306, 1.77088264, 1.79007249, 1.72297827, 1.71366093,\n",
              "       1.91437504, 1.78963103, 1.7453653 , 1.72549321, 1.78374499,\n",
              "       1.90954581, 1.90248256, 1.89911146, 1.80834598, 1.81985052,\n",
              "       1.88644309, 1.82194408, 1.80203186, 1.72308529, 1.78516299,\n",
              "       1.73757298, 1.77842748, 1.87653714, 1.90525836, 1.75611402,\n",
              "       1.80646646, 1.82330857, 1.9073051 , 1.80304185, 1.78516968,\n",
              "       1.88154697, 1.75764573, 1.74519808, 1.71824268, 1.79898182,\n",
              "       1.8041923 , 1.73633557, 1.77462162, 1.81237257, 1.76790618,\n",
              "       1.76979908, 1.88603508, 1.73339924, 1.81711485, 1.78860766,\n",
              "       1.79574449, 1.80876068, 1.82123508, 1.81308826, 1.77018702,\n",
              "       1.77158495, 1.79791163, 1.87832302, 1.78436704, 1.80219907,\n",
              "       1.79078817, 1.79221286, 1.82127521, 1.8927037 , 1.79132327,\n",
              "       1.72440965, 1.87777455, 1.89460328, 1.81333574, 1.90976654,\n",
              "       1.8241781 , 1.90619478, 1.81183747, 1.81352971, 1.80607851,\n",
              "       1.81843252, 1.9072449 , 1.89695101, 1.76336456, 1.81323541,\n",
              "       1.78602583, 1.82302096, 1.78061468, 1.88609527, 1.87752038,\n",
              "       1.72377422, 1.90506439, 1.88617554, 1.9009776 , 1.90885688,\n",
              "       1.81924854, 1.90094416, 1.7830895 , 1.90773318, 1.83073301,\n",
              "       1.82643219, 1.75511741, 1.78784515, 1.73914482, 1.82243235,\n",
              "       1.82978991, 1.7622141 , 1.74699734, 1.88142657, 1.9034056 ,\n",
              "       1.8881487 , 1.88578759, 1.80635275, 1.9054724 , 1.8805838 ,\n",
              "       1.82880667, 1.91325803, 1.75234829, 1.75121121, 1.73235581,\n",
              "       1.74580676, 1.79505556, 1.81773021, 1.88473078, 1.82144243,\n",
              "       1.8931184 , 1.74402756, 1.91123136, 1.90568644, 1.75117777,\n",
              "       1.78438041, 1.89213516, 1.8094563 , 1.71851022, 1.75823434,\n",
              "       1.91125143, 1.8053762 , 1.71451708, 1.82786357, 1.80707513,\n",
              "       1.81374375, 1.82791708, 1.7547094 , 1.89937232, 1.8248871 ,\n",
              "       1.71912558, 1.90909767, 1.90670312, 1.73937893, 1.91212095,\n",
              "       1.75442178, 1.80782426, 1.7618596 , 1.89434911, 1.90471658,\n",
              "       1.8941819 , 1.73669008, 1.89963318, 1.78447405, 1.9074255 ,\n",
              "       1.73572022, 1.89313177, 1.76250841, 1.88518561, 1.745071  ,\n",
              "       1.76135795, 1.8224658 , 1.73959297, 1.77892913, 1.85120039,\n",
              "       1.91394028, 1.9042283 , 1.75508396, 1.87857719, 1.89591427,\n",
              "       1.72386117, 1.88572071, 1.8193288 , 1.82309453, 1.89387422,\n",
              "       1.78504259, 1.77416679, 1.76450164, 1.82909428, 1.90775324,\n",
              "       1.74937183, 1.82423161, 1.83142195, 1.7188781 , 1.89099139,\n",
              "       1.90400089, 1.90135886, 1.8245928 , 1.83036513, 1.78407273,\n",
              "       1.71435655, 1.71821592, 1.73271031, 1.78582517, 1.82345572,\n",
              "       1.90366645, 1.80843293, 1.90463631, 1.76046167, 1.71451039,\n",
              "       1.71869751, 1.74532517, 1.9040544 , 1.76360535, 1.8886838 ,\n",
              "       1.82682682, 1.89230238, 1.7673577 , 1.87140023, 1.87999519,\n",
              "       1.79607224, 1.74020164, 1.89445613, 1.7336601 , 1.90808099,\n",
              "       1.89314515, 1.71535316, 1.74301757, 1.90477678, 1.77391931,\n",
              "       1.8270743 , 1.78221997, 1.90494399, 1.71467761, 1.71493178,\n",
              "       1.75032831, 1.74935845, 1.74794045, 1.76513706, 1.88225597,\n",
              "       1.75931121, 1.71760725, 1.75998008, 1.71638991, 1.760562  ,\n",
              "       1.7700198 , 1.71776109, 1.76826737, 1.71409569, 1.75941154,\n",
              "       1.75474953, 1.90917124, 1.80411204, 1.74525159, 1.78964441,\n",
              "       1.71381477, 1.76466216, 1.90495068, 1.72396819, 1.79455391,\n",
              "       1.91413425, 1.71924598, 1.82906753, 1.73258991, 1.89859643,\n",
              "       1.75388669, 1.79765077, 1.91418776, 1.73075052, 1.76352509,\n",
              "       1.73016192, 1.75944499, 1.76093657, 1.76683599, 1.89964655,\n",
              "       1.79731633, 1.90725159, 1.79518264, 1.81114185, 1.89230906,\n",
              "       1.75493681, 1.73356646, 1.88302517, 1.71511237, 1.77470188,\n",
              "       1.72197496, 1.89449626, 1.7814909 , 1.88056373, 1.80486786,\n",
              "       1.82621146, 1.7270985 , 1.79369106, 1.81478718, 1.79228644,\n",
              "       1.76393979, 1.74652913, 1.74866951, 1.7312388 , 1.81482732,\n",
              "       1.78163136, 1.75224796, 1.77765159, 1.75292352, 1.74056282,\n",
              "       1.80914862, 1.89343945, 1.72500494, 1.82844548, 1.80808512,\n",
              "       1.79377133, 1.87913235, 1.74715787, 1.73363335, 1.75927108,\n",
              "       1.72915192, 1.90321831, 1.81405143, 1.71774771, 1.75050221,\n",
              "       1.90640213, 1.78977818, 1.91202062, 1.78745721, 1.90129197,\n",
              "       1.91438173, 1.81074053, 1.88947306, 1.74035548, 1.91096381,\n",
              "       1.75246869, 1.7539402 , 1.75628124, 1.91214102, 1.88689792,\n",
              "       1.7741601 , 1.7443018 , 1.76367893, 1.8279037 , 1.89586745,\n",
              "       1.71650362, 1.91313095, 1.7450108 , 1.90359957, 1.82940865,\n",
              "       1.90620816, 1.74913772, 1.71814903, 1.76328429, 1.87535993,\n",
              "       1.9064757 , 1.7343691 , 1.89032921, 1.71410907, 1.74196076,\n",
              "       1.81049305, 1.7865743 , 1.76125762, 1.89307826, 1.71770089,\n",
              "       1.87902533, 1.82859263, 1.80389131, 1.76437455, 1.90196084,\n",
              "       1.78541047, 1.73054986, 1.90481022, 1.76130444, 1.71430973,\n",
              "       1.81525539, 1.75847513, 1.74858256, 1.89240271, 1.71731295,\n",
              "       1.80462707, 1.73561989, 1.71323954, 1.83385663, 1.80134961,\n",
              "       1.74099759, 1.80718215, 1.77385911, 1.82289387, 1.78168487,\n",
              "       1.74400081, 1.75054235, 1.88872393, 1.76973219, 1.81876695,\n",
              "       1.88296497, 1.89986059, 1.80930915, 1.73790742, 1.75935803,\n",
              "       1.90595399, 1.72499825, 1.82336877, 1.74664953, 1.90674325,\n",
              "       1.80946299, 1.88747983, 1.88917876, 1.79221955, 1.8823563 ,\n",
              "       1.75519098, 1.72984086, 1.77319024, 1.76924391, 1.87843004,\n",
              "       1.81969668, 1.78688867, 1.71488496, 1.78957752, 1.88057042,\n",
              "       1.90739874, 1.73217521, 1.71525283, 1.89582062, 1.74895044,\n",
              "       1.91329148, 1.77525035, 1.71523277, 1.71437662, 1.79216604,\n",
              "       1.88906505, 1.75206068, 1.82733516, 1.8982018 , 1.81531559,\n",
              "       1.78244738, 1.75444185, 1.89539255, 1.71517926, 1.79856712,\n",
              "       1.71309908, 1.77991906, 1.73390758, 1.73355977, 1.90211468,\n",
              "       1.74381353, 1.75907042, 1.89608148, 1.74965944, 1.82326844,\n",
              "       1.89042285, 1.77907628, 1.73020874, 1.76998636, 1.77725027,\n",
              "       1.82413797, 1.78619305, 1.7639331 , 1.75968578, 1.74179354,\n",
              "       1.89658314, 1.7471378 , 1.83028487, 1.87368776, 1.73581386,\n",
              "       1.82470651, 1.87574119, 1.81305481, 1.78555093, 1.73143277,\n",
              "       1.7319478 , 1.74247579, 1.81973681, 1.79848016, 1.73323202,\n",
              "       1.89637579, 1.82795721, 1.71701196, 1.88188809, 1.74889693,\n",
              "       1.73552624, 1.90790039, 1.71863731, 1.76818041, 1.71481138,\n",
              "       1.80699486, 1.75691666, 1.72240973, 1.71336662, 1.8238838 ,\n",
              "       1.77403301, 1.72735936, 1.87340684, 1.75196704, 1.71374788,\n",
              "       1.89208165, 1.82159627, 1.90145919, 1.74264301, 1.88827579,\n",
              "       1.78208619, 1.79104234, 1.73827529, 1.73795424, 1.81565671,\n",
              "       1.90475002, 1.76167232, 1.8993255 , 1.75721097, 1.82191063,\n",
              "       1.90589379, 1.73440923, 1.90510452, 1.7419942 , 1.78128355,\n",
              "       1.75113095, 1.89978033, 1.82775655, 1.80746307, 1.88433615,\n",
              "       1.74856918, 1.75152558, 1.7476729 , 1.8166667 , 1.90842211,\n",
              "       1.89471699, 1.71724606, 1.73412831, 1.8029549 , 1.85530056,\n",
              "       1.90743219, 1.78457438, 1.76997298, 1.74455597, 1.90977991])"
            ]
          },
          "execution_count": 13,
          "metadata": {},
          "output_type": "execute_result"
        }
      ],
      "source": [
        "predictions"
      ]
    },
    {
      "cell_type": "code",
      "execution_count": 14,
      "metadata": {
        "id": "tbnx2-P2fiMF"
      },
      "outputs": [],
      "source": [
        "df_predict_pd['total_pedidos_mes'] = np.maximum(0, np.round(predictions)).astype(int)"
      ]
    },
    {
      "cell_type": "code",
      "execution_count": 15,
      "metadata": {
        "id": "mxCCFBKSfqac"
      },
      "outputs": [],
      "source": [
        "df_final_results = df_predict_pd[[\n",
        "    'client_id', 'company_id', 'total_pedidos_mes'\n",
        "]]"
      ]
    },
    {
      "cell_type": "code",
      "execution_count": 16,
      "metadata": {
        "colab": {
          "base_uri": "https://localhost:8080/",
          "height": 206
        },
        "id": "USf2p7clfuzg",
        "outputId": "2fcc3a76-18f6-4699-bb09-f0679942f0dc"
      },
      "outputs": [
        {
          "data": {
            "application/vnd.google.colaboratory.intrinsic+json": {
              "summary": "{\n  \"name\": \"df_final_results\",\n  \"rows\": 600,\n  \"fields\": [\n    {\n      \"column\": \"client_id\",\n      \"properties\": {\n        \"dtype\": \"string\",\n        \"num_unique_values\": 600,\n        \"samples\": [\n          \"c38347\",\n          \"c3021\",\n          \"c42304\"\n        ],\n        \"semantic_type\": \"\",\n        \"description\": \"\"\n      }\n    },\n    {\n      \"column\": \"company_id\",\n      \"properties\": {\n        \"dtype\": \"number\",\n        \"std\": 0,\n        \"min\": 214,\n        \"max\": 214,\n        \"num_unique_values\": 1,\n        \"samples\": [\n          214\n        ],\n        \"semantic_type\": \"\",\n        \"description\": \"\"\n      }\n    },\n    {\n      \"column\": \"total_pedidos_mes\",\n      \"properties\": {\n        \"dtype\": \"number\",\n        \"std\": 0,\n        \"min\": 2,\n        \"max\": 2,\n        \"num_unique_values\": 1,\n        \"samples\": [\n          2\n        ],\n        \"semantic_type\": \"\",\n        \"description\": \"\"\n      }\n    }\n  ]\n}",
              "type": "dataframe",
              "variable_name": "df_final_results"
            },
            "text/html": [
              "\n",
              "  <div id=\"df-72672ae6-c0ce-4f05-9715-5d17f3b78db9\" class=\"colab-df-container\">\n",
              "    <div>\n",
              "<style scoped>\n",
              "    .dataframe tbody tr th:only-of-type {\n",
              "        vertical-align: middle;\n",
              "    }\n",
              "\n",
              "    .dataframe tbody tr th {\n",
              "        vertical-align: top;\n",
              "    }\n",
              "\n",
              "    .dataframe thead th {\n",
              "        text-align: right;\n",
              "    }\n",
              "</style>\n",
              "<table border=\"1\" class=\"dataframe\">\n",
              "  <thead>\n",
              "    <tr style=\"text-align: right;\">\n",
              "      <th></th>\n",
              "      <th>client_id</th>\n",
              "      <th>company_id</th>\n",
              "      <th>total_pedidos_mes</th>\n",
              "    </tr>\n",
              "  </thead>\n",
              "  <tbody>\n",
              "    <tr>\n",
              "      <th>0</th>\n",
              "      <td>c39917</td>\n",
              "      <td>214</td>\n",
              "      <td>2</td>\n",
              "    </tr>\n",
              "    <tr>\n",
              "      <th>1</th>\n",
              "      <td>c15136</td>\n",
              "      <td>214</td>\n",
              "      <td>2</td>\n",
              "    </tr>\n",
              "    <tr>\n",
              "      <th>2</th>\n",
              "      <td>c40795</td>\n",
              "      <td>214</td>\n",
              "      <td>2</td>\n",
              "    </tr>\n",
              "    <tr>\n",
              "      <th>3</th>\n",
              "      <td>c40389</td>\n",
              "      <td>214</td>\n",
              "      <td>2</td>\n",
              "    </tr>\n",
              "    <tr>\n",
              "      <th>4</th>\n",
              "      <td>c39127</td>\n",
              "      <td>214</td>\n",
              "      <td>2</td>\n",
              "    </tr>\n",
              "  </tbody>\n",
              "</table>\n",
              "</div>\n",
              "    <div class=\"colab-df-buttons\">\n",
              "\n",
              "  <div class=\"colab-df-container\">\n",
              "    <button class=\"colab-df-convert\" onclick=\"convertToInteractive('df-72672ae6-c0ce-4f05-9715-5d17f3b78db9')\"\n",
              "            title=\"Convert this dataframe to an interactive table.\"\n",
              "            style=\"display:none;\">\n",
              "\n",
              "  <svg xmlns=\"http://www.w3.org/2000/svg\" height=\"24px\" viewBox=\"0 -960 960 960\">\n",
              "    <path d=\"M120-120v-720h720v720H120Zm60-500h600v-160H180v160Zm220 220h160v-160H400v160Zm0 220h160v-160H400v160ZM180-400h160v-160H180v160Zm440 0h160v-160H620v160ZM180-180h160v-160H180v160Zm440 0h160v-160H620v160Z\"/>\n",
              "  </svg>\n",
              "    </button>\n",
              "\n",
              "  <style>\n",
              "    .colab-df-container {\n",
              "      display:flex;\n",
              "      gap: 12px;\n",
              "    }\n",
              "\n",
              "    .colab-df-convert {\n",
              "      background-color: #E8F0FE;\n",
              "      border: none;\n",
              "      border-radius: 50%;\n",
              "      cursor: pointer;\n",
              "      display: none;\n",
              "      fill: #1967D2;\n",
              "      height: 32px;\n",
              "      padding: 0 0 0 0;\n",
              "      width: 32px;\n",
              "    }\n",
              "\n",
              "    .colab-df-convert:hover {\n",
              "      background-color: #E2EBFA;\n",
              "      box-shadow: 0px 1px 2px rgba(60, 64, 67, 0.3), 0px 1px 3px 1px rgba(60, 64, 67, 0.15);\n",
              "      fill: #174EA6;\n",
              "    }\n",
              "\n",
              "    .colab-df-buttons div {\n",
              "      margin-bottom: 4px;\n",
              "    }\n",
              "\n",
              "    [theme=dark] .colab-df-convert {\n",
              "      background-color: #3B4455;\n",
              "      fill: #D2E3FC;\n",
              "    }\n",
              "\n",
              "    [theme=dark] .colab-df-convert:hover {\n",
              "      background-color: #434B5C;\n",
              "      box-shadow: 0px 1px 3px 1px rgba(0, 0, 0, 0.15);\n",
              "      filter: drop-shadow(0px 1px 2px rgba(0, 0, 0, 0.3));\n",
              "      fill: #FFFFFF;\n",
              "    }\n",
              "  </style>\n",
              "\n",
              "    <script>\n",
              "      const buttonEl =\n",
              "        document.querySelector('#df-72672ae6-c0ce-4f05-9715-5d17f3b78db9 button.colab-df-convert');\n",
              "      buttonEl.style.display =\n",
              "        google.colab.kernel.accessAllowed ? 'block' : 'none';\n",
              "\n",
              "      async function convertToInteractive(key) {\n",
              "        const element = document.querySelector('#df-72672ae6-c0ce-4f05-9715-5d17f3b78db9');\n",
              "        const dataTable =\n",
              "          await google.colab.kernel.invokeFunction('convertToInteractive',\n",
              "                                                    [key], {});\n",
              "        if (!dataTable) return;\n",
              "\n",
              "        const docLinkHtml = 'Like what you see? Visit the ' +\n",
              "          '<a target=\"_blank\" href=https://colab.research.google.com/notebooks/data_table.ipynb>data table notebook</a>'\n",
              "          + ' to learn more about interactive tables.';\n",
              "        element.innerHTML = '';\n",
              "        dataTable['output_type'] = 'display_data';\n",
              "        await google.colab.output.renderOutput(dataTable, element);\n",
              "        const docLink = document.createElement('div');\n",
              "        docLink.innerHTML = docLinkHtml;\n",
              "        element.appendChild(docLink);\n",
              "      }\n",
              "    </script>\n",
              "  </div>\n",
              "\n",
              "\n",
              "    <div id=\"df-159383fc-139e-4ddf-a12d-45aa238408f0\">\n",
              "      <button class=\"colab-df-quickchart\" onclick=\"quickchart('df-159383fc-139e-4ddf-a12d-45aa238408f0')\"\n",
              "                title=\"Suggest charts\"\n",
              "                style=\"display:none;\">\n",
              "\n",
              "<svg xmlns=\"http://www.w3.org/2000/svg\" height=\"24px\"viewBox=\"0 0 24 24\"\n",
              "     width=\"24px\">\n",
              "    <g>\n",
              "        <path d=\"M19 3H5c-1.1 0-2 .9-2 2v14c0 1.1.9 2 2 2h14c1.1 0 2-.9 2-2V5c0-1.1-.9-2-2-2zM9 17H7v-7h2v7zm4 0h-2V7h2v10zm4 0h-2v-4h2v4z\"/>\n",
              "    </g>\n",
              "</svg>\n",
              "      </button>\n",
              "\n",
              "<style>\n",
              "  .colab-df-quickchart {\n",
              "      --bg-color: #E8F0FE;\n",
              "      --fill-color: #1967D2;\n",
              "      --hover-bg-color: #E2EBFA;\n",
              "      --hover-fill-color: #174EA6;\n",
              "      --disabled-fill-color: #AAA;\n",
              "      --disabled-bg-color: #DDD;\n",
              "  }\n",
              "\n",
              "  [theme=dark] .colab-df-quickchart {\n",
              "      --bg-color: #3B4455;\n",
              "      --fill-color: #D2E3FC;\n",
              "      --hover-bg-color: #434B5C;\n",
              "      --hover-fill-color: #FFFFFF;\n",
              "      --disabled-bg-color: #3B4455;\n",
              "      --disabled-fill-color: #666;\n",
              "  }\n",
              "\n",
              "  .colab-df-quickchart {\n",
              "    background-color: var(--bg-color);\n",
              "    border: none;\n",
              "    border-radius: 50%;\n",
              "    cursor: pointer;\n",
              "    display: none;\n",
              "    fill: var(--fill-color);\n",
              "    height: 32px;\n",
              "    padding: 0;\n",
              "    width: 32px;\n",
              "  }\n",
              "\n",
              "  .colab-df-quickchart:hover {\n",
              "    background-color: var(--hover-bg-color);\n",
              "    box-shadow: 0 1px 2px rgba(60, 64, 67, 0.3), 0 1px 3px 1px rgba(60, 64, 67, 0.15);\n",
              "    fill: var(--button-hover-fill-color);\n",
              "  }\n",
              "\n",
              "  .colab-df-quickchart-complete:disabled,\n",
              "  .colab-df-quickchart-complete:disabled:hover {\n",
              "    background-color: var(--disabled-bg-color);\n",
              "    fill: var(--disabled-fill-color);\n",
              "    box-shadow: none;\n",
              "  }\n",
              "\n",
              "  .colab-df-spinner {\n",
              "    border: 2px solid var(--fill-color);\n",
              "    border-color: transparent;\n",
              "    border-bottom-color: var(--fill-color);\n",
              "    animation:\n",
              "      spin 1s steps(1) infinite;\n",
              "  }\n",
              "\n",
              "  @keyframes spin {\n",
              "    0% {\n",
              "      border-color: transparent;\n",
              "      border-bottom-color: var(--fill-color);\n",
              "      border-left-color: var(--fill-color);\n",
              "    }\n",
              "    20% {\n",
              "      border-color: transparent;\n",
              "      border-left-color: var(--fill-color);\n",
              "      border-top-color: var(--fill-color);\n",
              "    }\n",
              "    30% {\n",
              "      border-color: transparent;\n",
              "      border-left-color: var(--fill-color);\n",
              "      border-top-color: var(--fill-color);\n",
              "      border-right-color: var(--fill-color);\n",
              "    }\n",
              "    40% {\n",
              "      border-color: transparent;\n",
              "      border-right-color: var(--fill-color);\n",
              "      border-top-color: var(--fill-color);\n",
              "    }\n",
              "    60% {\n",
              "      border-color: transparent;\n",
              "      border-right-color: var(--fill-color);\n",
              "    }\n",
              "    80% {\n",
              "      border-color: transparent;\n",
              "      border-right-color: var(--fill-color);\n",
              "      border-bottom-color: var(--fill-color);\n",
              "    }\n",
              "    90% {\n",
              "      border-color: transparent;\n",
              "      border-bottom-color: var(--fill-color);\n",
              "    }\n",
              "  }\n",
              "</style>\n",
              "\n",
              "      <script>\n",
              "        async function quickchart(key) {\n",
              "          const quickchartButtonEl =\n",
              "            document.querySelector('#' + key + ' button');\n",
              "          quickchartButtonEl.disabled = true;  // To prevent multiple clicks.\n",
              "          quickchartButtonEl.classList.add('colab-df-spinner');\n",
              "          try {\n",
              "            const charts = await google.colab.kernel.invokeFunction(\n",
              "                'suggestCharts', [key], {});\n",
              "          } catch (error) {\n",
              "            console.error('Error during call to suggestCharts:', error);\n",
              "          }\n",
              "          quickchartButtonEl.classList.remove('colab-df-spinner');\n",
              "          quickchartButtonEl.classList.add('colab-df-quickchart-complete');\n",
              "        }\n",
              "        (() => {\n",
              "          let quickchartButtonEl =\n",
              "            document.querySelector('#df-159383fc-139e-4ddf-a12d-45aa238408f0 button');\n",
              "          quickchartButtonEl.style.display =\n",
              "            google.colab.kernel.accessAllowed ? 'block' : 'none';\n",
              "        })();\n",
              "      </script>\n",
              "    </div>\n",
              "\n",
              "    </div>\n",
              "  </div>\n"
            ],
            "text/plain": [
              "  client_id  company_id  total_pedidos_mes\n",
              "0    c39917         214                  2\n",
              "1    c15136         214                  2\n",
              "2    c40795         214                  2\n",
              "3    c40389         214                  2\n",
              "4    c39127         214                  2"
            ]
          },
          "execution_count": 16,
          "metadata": {},
          "output_type": "execute_result"
        }
      ],
      "source": [
        "df_final_results.head()"
      ]
    },
    {
      "cell_type": "code",
      "execution_count": null,
      "metadata": {
        "id": "FsssRe8zgpKP"
      },
      "outputs": [],
      "source": [
        "df_final_results.to_csv(\"gs://kaggle-pdm-2025/davidoneilPDM/sample_submission.csv\", index=False)"
      ]
    }
  ],
  "metadata": {
    "colab": {
      "cell_execution_strategy": "setup",
      "name": "treinamento_pri",
      "provenance": []
    },
    "kernelspec": {
      "display_name": "Python 3",
      "name": "python3"
    },
    "language_info": {
      "name": "python"
    }
  },
  "nbformat": 4,
  "nbformat_minor": 0
}
